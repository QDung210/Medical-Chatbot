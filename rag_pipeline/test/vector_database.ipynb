{
 "cells": [
  {
   "cell_type": "code",
   "execution_count": 1,
   "id": "451fbf21",
   "metadata": {},
   "outputs": [
    {
     "name": "stderr",
     "output_type": "stream",
     "text": [
      "C:\\Users\\Admin\\AppData\\Roaming\\Python\\Python39\\site-packages\\tqdm\\auto.py:21: TqdmWarning: IProgress not found. Please update jupyter and ipywidgets. See https://ipywidgets.readthedocs.io/en/stable/user_install.html\n",
      "  from .autonotebook import tqdm as notebook_tqdm\n"
     ]
    }
   ],
   "source": [
    "from sentence_transformers import SentenceTransformer\n",
    "from qdrant_client import QdrantClient\n",
    "from pathlib import Path\n",
    "EMBEDDINGS_MODEL = Path().resolve().parent.parent / \".cache\" / \"model\"\n",
    "model = SentenceTransformer(str(EMBEDDINGS_MODEL))\n",
    "client = QdrantClient(url=\"http://localhost:6333\")"
   ]
  },
  {
   "cell_type": "code",
   "execution_count": 7,
   "id": "ba43b574",
   "metadata": {},
   "outputs": [
    {
     "name": "stdout",
     "output_type": "stream",
     "text": [
      "Score: 0.8411\n",
      "    Title: Nhận biết nhanh triệu chứng sốt xuất huyết và cách xử lí\n",
      "    URL: https://nhathuoclongchau.com.vn/bai-viet/nhan-biet-nhanh-trieu-chung-sot-xuat-huyet-va-cach-xu-li.html\n",
      "    Content: Nhận biết nhanh triệu chứng sốt xuất huyết và cách xử lí\n",
      "\n",
      ". Người bệnh có thể sốt từ 39 - 40 độ C, thậm chí cao hơn và rất khó hạ sốt khi tình trạng bệnh chuyển nặng. Biểu hiện sốt cao khi bị sốt xuất huyết có nguyên nhân khác với những bệnh truyền nhiễm thông thường nên rất ít đáp ứng thuốc hạ sốt, dẫn đến sốt cao liên tục nhiều giờ, thậm chí nhiều ngày gây nguy hiểm đến tính mạng bệnh nhân.  Biểu hiện sốt xuất huyết - Đau đầu  Ngoài sốt cao bạn còn có thể nhận biết sốt xuất huyết thông qua việc đau đầu dữ dội. Cũng giống với những chủng virus khác, virus Dengue khi xâm nhập cũng khiến cơ thể nhức mỏi toàn thân, đau đầu nhiều, đặc biệt là ở vùng trán, thái dương, nhãn cầu của người bệnh.  Triệu chứng sốt xuất huyết thường gặp nhất là đau đầu, mệt mỏi  Nói đến triệu chứng sốt xuất huyết thì không thể nào bỏ qua dấu hiệu nôn, buồn nôn ở người bệnh. Khi bị sốt xuất huyết, bệnh nhân có khả năng cao cũng bị rối loạn tiêu hóa do virus xâm nhập dẫn đến việc  ,... mỗi khi ăn hoặc khi uống thuốc\n",
      "=====================================\n",
      "Score: 0.8313\n",
      "    Title: Cùng là sốt, đâu là dấu hiệu đặc trưng của sốt xuất huyết?\n",
      "    URL: https://nhathuoclongchau.com.vn/bai-viet/cung-la-sot-dau-la-dau-hieu-dac-trung-cua-sot-xuat-huyet.html\n",
      "    Content: Cùng là sốt, đâu là dấu hiệu đặc trưng của sốt xuất huyết?\n",
      "\n",
      "Sốt xuất huyết là một bệnh truyền nhiễm nguy hiểm do virus Dengue gây ra, lây truyền qua muỗi. Bệnh có thể diễn tiến nghiêm trọng nếu không được phát hiện và điều trị kịp thời. Trong bài viết này, chúng ta sẽ cùng tìm hiểu về các triệu chứng đặc trưng của sốt xuất huyết để có thể nhận diện và xử lý bệnh một cách hiệu quả.  Cùng là sốt, đâu là dấu hiệu đặc trưng của sốt xuất huyết?  Tư vấn giải đáp bởi Bác sĩ Chuyên Khoa II - Nguyễn Cát Phương Vũ - Bác sĩ Khoa khám bệnh - Bệnh viện Nhi đồng Thành phố  Biểu hiện của sốt xuất huyết và sốt siêu vi có thể dễ dàng bị trùng lẫn với nhau, với các biểu hiện như sốt, mệt mỏi, đau đầu. Tuy nhiên có một số triệu chứng đặc thù chúng ta có thể cân nhắc và theo dõi sát để phát hiện bệnh  Sốt cao vào những ngày đầu, kéo dài liên tục cả ngày;  Cơn sốt có thể lên cao đột ngột đến 39 - 40 độ, kéo dài từ ngày 2 đến ngày 7;  Trẻ lớn có biểu hiện đau hốc mắt;  Bên cạnh đó sẽ xuất hiện một số dấu hiệu điển hình như:  Dễ chảy máu cam, máu răng, máu nướu;  Cùng lắng nghe ý kiến tư vấn từ chuyên gia:  Trong khi đó, biểu hiện của  Sốt nhẹ những ngày đầu và thường không kéo dài;  Và sẽ không có những triệu chứng như xuất huyết dưới da\n",
      "=====================================\n",
      "Score: 0.8267\n",
      "    Title: Những điều cần biết về sốt xuất huyết và cách phòng tránh bệnh\n",
      "    URL: https://www.vinmec.com/vie/bai-viet/nhung-dieu-can-biet-ve-sot-xuat-huyet-va-cach-phong-tranh-benh-vi\n",
      "    Content: Những điều cần biết về sốt xuất huyết và cách phòng tránh bệnh\n",
      "\n",
      ". Đau đầu dữ dội ở vùng trán, sau nhãn cầu. Có thể có nổi mẩn, phát ban. Ở thể bệnh nặng, bao gồm các dấu hiệu trên kèm theo một hoặc nhiều dấu hiệu sau: Dấu hiệu xuất huyết: Chấm xuất huyết ngoài da, chảy máu cam, chảy máu chân răng, vết bầm tím chỗ tiêm, nôn/ói ra máu, đi cầu phân đen (do bị xuất huyết nội tạng). Đau bụng, buồn nôn, chân tay lạnh, người vật vã, hốt hoảng (hội chứng choáng doxuất huyết nội tạnggây mất máu, tụt huyết áp), nếu không được cấp cứu và điều trị kịp thời có thể dẫn đến tử vong. Bệnh sốt xuất huyết nếu không để ý sẽ dễ lẫn với những bệnh sốt thông thường, sẽ rất nguy hiểm vậy dựa vào dấu hiệu nào để phân biệt. 3. Phân biệt sốt xuất huyết với sốt thông thường Bệnh sốt xuất huyết thường sẽ diễn biến qua ba giai đoạn: Trong 2-3 ngày đầu: Bệnh nhân sốt cao liên tục, khó hạ sốt, đau đầu, đau mỏi người... Lúc này triệu chứngsốt xuất huyết denguegiống như các sốt do virus khác và chỉ phân biệt được bằng xét nghiệm. Sốt là phản ứng của cơ thể với tác nhân gây bệnh, mức độ sốt cao hay thấp tùy thuộc vào phản ứng của cơ thể mạnh hay yếu, nhiệt độ vượt quá 37.5 độ C là bị sốt, do đó một số bệnh nhân sốt xuất huyết có thể chỉ sốt nhẹ nên không để ý\n",
      "=====================================\n",
      "Score: 0.8246\n",
      "    Title: Cách giảm đau đầu khi sốt xuất huyết\n",
      "    URL: https://nhathuoclongchau.com.vn/bai-viet/cach-giam-dau-dau-khi-sot-xuat-huyet.html\n",
      "    Content: Cách giảm đau đầu khi sốt xuất huyết\n",
      "\n",
      "Triệu chứng sốt cao, đau nhức cơ thể, và đau đầu là những dấu hiệu điển hình của sốt xuất huyết, đặc biệt là trong những ngày đầu tiên. Vậy có những biện pháp nào để làm giảm cơn đau này? Hãy cùng Nhà thuốc Long Châu tìm hiểu về cách giảm đau đầu khi sốt xuất huyết qua bài viết sau.  Đau đầu thường là một triệu chứng phổ biến khi mắc sốt xuất huyết, cùng với các dấu hiệu khác như sốt, buồn nôn, và đau nhức cơ thể. Tuy nhiên, không phải ai cũng biết cách giảm đau đầu khi sốt xuất huyết hiệu quả.  Bệnh lý sốt xuất huyết  là một bệnh truyền nhiễm do  (virus gây sốt xuất huyết) được truyền từ muỗi sang người, thường xuất hiện ở vùng khí hậu nhiệt đới và cận nhiệt đới. Vì vậy, về bản chất, các bệnh do virus tạo ra thường xuất hiện các triệu chứng tương tự, chủ yếu là sự xuất hiện của sốt.  Tuy nhiên, trong trường hợp sốt xuất huyết, có những đặc điểm khác biệt so với các bệnh khác do virus khác gây ra. Trong khoảng 1 - 3 ngày đầu mắc sốt xuất huyết, bệnh nhân thường trải qua cảm giác sốt rất cao. Trong quá trình sốt, mỗi lần hạ sốt sẽ gắn liền với việc vã mồ hôi. Trong dịch mồ hôi, nước và các chất điện giải bị mất đi, gây mệt mỏi nặng nề cho bệnh nhân\n",
      "=====================================\n",
      "Score: 0.8203\n",
      "    Title: Sốt xuất huyết có được uống kháng sinh không?\n",
      "    URL: https://nhathuoclongchau.com.vn/bai-viet/sot-xuat-huyet-co-duoc-uong-khang-sinh-khong.html\n",
      "    Content: Sốt xuất huyết có được uống kháng sinh không?\n",
      "\n",
      "Sốt xuất huyết là một căn bệnh truyền nhiễm hết sức nguy hiểm, do đó cần hết sức cẩn thận trong quá trình lựa chọn thuốc chữa bệnh. Trong quá trình này, một câu hỏi thường gặp là sốt xuất huyết có được uống kháng sinh không? Hãy cùng tìm câu trả lời qua bài viết dưới đây nhé!  Sốt xuất huyết là một bệnh do virus gây ra, do đó nhiều người thắc mắc rằng liệu sốt xuất huyết có được uống kháng sinh không? Hãy cùng tìm hiểu vấn đề này để có cái nhìn rõ ràng hơn về việc uống kháng sinh trong trường hợp sốt xuất huyết.  Dấu hiệu nhận biết sốt xuất huyết  Phát hiện sớm các dấu hiệu của  và tìm kiếm sự chăm sóc y tế kịp thời có thể giảm tỷ lệ tử vong do căn bệnh này xuống dưới 1%. Dưới đây là một số triệu chứng phổ biến mà người mắc sốt xuất huyết thường gặp phải:  Sốt cao đột ngột, nhiệt độ dao động từ 39 - 40 độ C, kéo dài từ 2 - 7 ngày, tùy thuộc vào từng trường hợp cụ thể;  Đau đầu mạnh ở vùng trán;  Đau người, mệt mỏi, đau các khớp;  , xuất huyết tiêu hóa, ra kinh nguyệt bất thường và nhiều hơn nữa\n",
      "=====================================\n",
      "Score: 0.8157\n",
      "    Title: Sốt xuất huyết nổi mẩn đỏ có sao không? Làm sao xử lý?\n",
      "    URL: https://nhathuoclongchau.com.vn/bai-viet/sot-xuat-huyet-noi-man-do-co-sao-khong-lam-sao-xu-ly-65015.html\n",
      "    Content: Sốt xuất huyết nổi mẩn đỏ có sao không? Làm sao xử lý?\n",
      "\n",
      "Sốt xuất huyết với những triệu chứng điển hình là chóng mặt, đau đầu, buồn nôn, xuất huyết dưới da... Nhiều người có thể bị sốt xuất huyết nổi mẩn đỏ gây ngứa ngáy khó chịu. Hiện tượng này có bình thường khi bị sốt xuất huyết không? Chúng ta cùng nhau tìm hiểu nhé.  xuất hiện quanh năm, đặc biệt bùng phát vào mùa mưa khi muỗi sinh sản. Khi bản thân hoặc người thân trong gia đình bị sốt xuất huyết, việc nắm những thông tin có liên quan về chứng bệnh này sẽ giúp bạn, người thân đối phó và vượt qua dễ dàng, bệnh cũng nhanh chóng được hồi phục.  Biểu hiện của bệnh sốt xuất huyết  Ba ngày đầu tiên sau khi phát bệnh, người bị sốt xuất huyết sẽ có các triệu chứng như sốt cao, đau đầu, đau mỏi người, nhức mắt… Dù vậy, đây không phải là giai đoạn nguy hiểm nhất cũng như không xuất hiện biến chứng. Thời điểm này, người bệnh vẫn có thể điều trị tại nhà, nghỉ ngơi và áp dụng các biện pháp hạ sốt bằng lau ấm, dùng thuốc, uống nhiều nước,...  Từ khoảng cuối ngày thứ 3 đến ngày thứ 7 tính từ khi sốt là thời gian bệnh nhân sốt xuất huyết bước vào giai đoạn thứ 2 của bệnh\n",
      "=====================================\n",
      "Score: 0.8091\n",
      "    Title: Sốt xuất huyết không được uống thuốc gì?\n",
      "    URL: https://nhathuoclongchau.com.vn/bai-viet/sot-xuat-huyet-khong-duoc-uong-thuoc-gi.html\n",
      "    Content: Sốt xuất huyết không được uống thuốc gì?\n",
      "\n",
      ". Sốt xuất huyết có thể tiến triển thành sốt xuất huyết nặng, một số biến chứng nguy hiểm như thoát huyết tương,  , xuất huyết nghiêm trọng và suy nội tạng.  Các dấu hiệu cảnh báo cần chú ý xảy ra 3 - 7 ngày sau khi xuất hiện các triệu chứng đầu tiên là tình trạng  , hạ thân nhiệt, đau bụng dữ dội, nôn mửa dai dẳng, thở nhanh, chảy máu nướu răng, nôn ra máu, vật vã, li bì.  Sốt xuất huyết lây truyền qua vết đốt của muỗi vằn mang virus Dengue  Sốt xuất huyết không được dùng thuốc gì?  Bệnh nhân sốt xuất huyết sử dụng thuốc giảm đau, hạ sốt để điều trị triệu chứng bệnh. Tuy nhiên, không phải mọi loại thuốc có công dụng giảm đau và hạ sốt đều sử dụng được cho bệnh nhân mắc chứng sốt xuất huyết. Vậy sốt xuất huyết không được uống thuốc gì?  Một số loại thuốc chống chỉ định trong điều trị sốt xuất huyết như sau:  Là thuốc có công dụng giảm đau, hạ sốt cho người bệnh. Tuy nhiên, Aspirin còn có tác dụng chống kết tập tiểu cầu, ngăn cản hình thành cục máu động, dự phòng huyết khối. Với bệnh nhân sốt xuất huyết số lượng tiểu cầu thường giảm mạnh, sử dụng Aspirin sẽ làm tình trạng xuất huyết trầm trọng thêm và gây nguy hiểm tính mạng người bệnh\n",
      "=====================================\n",
      "Score: 0.8073\n",
      "    Title: Diễn biến sốt xuất huyết: Cảnh giác trước mùa bệnh\n",
      "    URL: https://nhathuoclongchau.com.vn/bai-viet/dien-bien-sot-xuat-huyet-canh-giac-truoc-mua-benh.html\n",
      "    Content: Diễn biến sốt xuất huyết: Cảnh giác trước mùa bệnh\n",
      "\n",
      ".  Khi cơn sốt bắt đầu hạ, dưới da sẽ xuất hiện những vết xuất huyết nhẹ, đau bụng ứ dịch, buồn nôn và  . Những dấu hiệu này cho thấy tình trạng bệnh chuẩn bị chuyển qua giai đoạn tiếp theo, giai đoạn xuất huyết.  Sốt cao, mệt mỏi là những dấu hiệu đầu tiên trong diễn biến sốt xuất huyết  Sau khi hạ sốt, giai đoạn xuất huyết bắt đầu và thường kéo dài từ 1 - 2 ngày với các triệu chứng thường gặp như: Các chấm xuất huyết dưới da, chảy máu cam, chảy máu chân răng, xuất huyết đường tiêu hóa dẫn tới nôn ói ra máu, tiêu chảy phân đen,... tệ nhất có thể gây  Ở giai đoạn này, hầu hết các triệu chứng mệt mỏi, khó chịu ban đầu sẽ thuyên giảm. Tuy nhiên, cùng với xuất huyết làm thay đổi tính thấm thành mạch. Bệnh nhân sốt xuất huyết có thể bị thiếu dịch và cô đặc máu gây  , lạnh chân tay và nặng nhất là sốc. Các kết quả xét nghiệm máu lúc này thường cho thấy thể tích hồng cầu tăng, số lượng tiểu cầu suy giảm và thay đổi một số công thức máu khác.  Diễn biến sốt xuất huyết đi tới giai đoạn cuối cùng. Lúc này, quá trình huyết động bệnh nhân bắt đầu ổn định, các chỉ số xét nghiệm máu cũng trở lại bình thường. Người bệnh sẽ cảm thấy sức khỏe dần ổn, các triệu chứng thuyên giảm hoàn toàn\n",
      "=====================================\n"
     ]
    }
   ],
   "source": [
    "query_text = \"Triệu chứng sốt xuất huyết?\"\n",
    "query_vector = model.encode(query_text)\n",
    "\n",
    "results = client.query_points(\n",
    "    collection_name=\"medical_data\", \n",
    "    query=query_vector.tolist(),\n",
    "    with_payload=True,\n",
    "    limit=10,\n",
    ")\n",
    "\n",
    "seen_titles = set()\n",
    "for result in results.points:\n",
    "    if result.payload:\n",
    "        metadata = result.payload.get('metadata', {})\n",
    "        title = metadata.get('title', 'N/A')\n",
    "        if title in seen_titles:\n",
    "            continue\n",
    "        seen_titles.add(title)\n",
    "        print(f\"Score: {result.score:.4f}\")\n",
    "        print(f\"    Title: {title}\")\n",
    "        print(f\"    URL: {metadata.get('url', 'N/A')}\")\n",
    "        page_content = result.payload.get('page_content', '')\n",
    "        print(\"    Content:\", page_content)\n",
    "        print(\"=====================================\")"
   ]
  },
  {
   "cell_type": "code",
   "execution_count": null,
   "id": "f7b224e6",
   "metadata": {},
   "outputs": [],
   "source": []
  }
 ],
 "metadata": {
  "kernelspec": {
   "display_name": "config",
   "language": "python",
   "name": "python3"
  },
  "language_info": {
   "codemirror_mode": {
    "name": "ipython",
    "version": 3
   },
   "file_extension": ".py",
   "mimetype": "text/x-python",
   "name": "python",
   "nbconvert_exporter": "python",
   "pygments_lexer": "ipython3",
   "version": "3.9.21"
  }
 },
 "nbformat": 4,
 "nbformat_minor": 5
}
